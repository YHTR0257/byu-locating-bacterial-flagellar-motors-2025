{
 "cells": [
  {
   "cell_type": "markdown",
   "id": "f6564791",
   "metadata": {},
   "source": [
    "# Settings"
   ]
  },
  {
   "cell_type": "code",
   "execution_count": null,
   "id": "01e39775",
   "metadata": {},
   "outputs": [],
   "source": [
    "import sys\n",
    "import os\n",
    "import matplotlib.pyplot as plt"
   ]
  },
  {
   "cell_type": "code",
   "execution_count": null,
   "id": "d896afe4",
   "metadata": {},
   "outputs": [],
   "source": [
    "from PIL import Image\n",
    "import os\n",
    "\n",
    "pretrain_input = os.path.join('/kaggle/input', 'byu-model-nb012')\n",
    "\n",
    "#TODO: Generate png\n",
    "im1 = Image.open(os.path.join(pretrain_input,'F1_curve.png'))\n",
    "im2 = Image.open(os.path.join(pretrain_input,'PR_curve.png'))\n",
    "im3 = Image.open(os.path.join(pretrain_input,'dfl_loss_curve.png'))\n",
    "def get_concat_h_multi_resize(im_list, resample=Image.BICUBIC):\n",
    "    min_height = min(im.height for im in im_list)\n",
    "    im_list_resize = [im.resize((int(im.width * min_height / im.height), min_height),resample=resample)\n",
    "                      for im in im_list]\n",
    "    total_width = sum(im.width for im in im_list_resize)\n",
    "    dst = Image.new('RGB', (total_width, min_height))\n",
    "    pos_x = 0\n",
    "    for im in im_list_resize:\n",
    "        dst.paste(im, (pos_x, 0))\n",
    "        pos_x += im.width\n",
    "    return dst\n",
    "get_concat_h_multi_resize([im3, im2, im1])"
   ]
  },
  {
   "cell_type": "code",
   "execution_count": null,
   "id": "f5844e8c",
   "metadata": {},
   "outputs": [],
   "source": [
    "\"\"\" Train Model \"\"\"\n",
    "model_path = os.path.join(pretrain_input, 'best.pt')"
   ]
  },
  {
   "cell_type": "markdown",
   "id": "586ec983",
   "metadata": {},
   "source": [
    "# Helper setting"
   ]
  },
  {
   "cell_type": "markdown",
   "id": "cb3cba2f",
   "metadata": {},
   "source": []
  }
 ],
 "metadata": {
  "kernelspec": {
   "display_name": "byu",
   "language": "python",
   "name": "python3"
  },
  "language_info": {
   "name": "python",
   "version": "3.11.12"
  }
 },
 "nbformat": 4,
 "nbformat_minor": 5
}
